{
 "cells": [
  {
   "cell_type": "code",
   "execution_count": 1,
   "metadata": {},
   "outputs": [],
   "source": [
    "from IPython.display import Image"
   ]
  },
  {
   "cell_type": "markdown",
   "metadata": {},
   "source": [
    "## Note 6: Autoencoders\n",
    "#### This material is mainly aiming to crystallize my knowledge. Any suggestion or correction would be gladly accepted\n",
    "<br>\n",
    "The idea behind autoencoders is rather simple. They are used as a dimensionality reduction method which learns compressed and meaningful representation also called latent representation or code.\n",
    "\n",
    "The code is a compression of the original data and which contains feature representation, Unlike PCA, another dimensionality reduction method, auto-encoders are not using linear transformation meaning implying several drawbacks such as:\n",
    "\n",
    "- data specific, not able to generalize on a completely new type of data\n",
    "- lossy: lose information about the original data \n",
    "- Unsupervised\n",
    "<br><br>\n",
    "Although they seem to be less efficient than other methods because of the drawbacks cited above, they are useful in specific cases such as:\n",
    "- data denoising\n",
    "- dimensionality reduction and latent representation od complex data wich lack linear feature representation\n",
    "3. variational auto encoders VAE learning parameters of probability distribution instead of arbitrary function\n",
    "<br><br>\n",
    "\n",
    "Auto-encoders are composed of three parts: encoder, code, decoders. encoders and decoders are symmetric on each side of the code and during training, the network learns to output the closest clone of the inputs as possible using loss functions such as L2. This implying that the ground truths are actually inputs themselves. \n",
    "<br>img above from https://goo.gl/WE3eD1\n",
    "<br><br>\n",
    "![Autoencoder_structure](ims/Autoencoder_structure.png)\n",
    "\n",
    "<br><br>\n",
    "The following methods are used to improve the latent representation contained in the code:\n",
    "- Keeping the code small force the autoencoder to learn meaningful representation and avoid the model to just learn to map specific code to specific output caused by overfitting.\n",
    "- Adding noise into the input data is also a good way to regularize them and force them to learn better representations.\n",
    "- Sparse encoders using activity regulariser have proven to be a successful way to learn better latent representations"
   ]
  },
  {
   "cell_type": "markdown",
   "metadata": {},
   "source": [
    "## Practice\n",
    "My next note which will focus on GAN and cGAN so instead of building an FC autoencoder, I will use a convnet which in that case which will reduce mnist dataset data from a 28\\*28 size to a code with a size of 7*7. "
   ]
  },
  {
   "cell_type": "code",
   "execution_count": 2,
   "metadata": {},
   "outputs": [],
   "source": [
    "import tensorflow as tf\n",
    "import numpy as np\n",
    "from tensorflow.keras import layers as KL\n",
    "import matplotlib.pyplot as plt"
   ]
  },
  {
   "cell_type": "code",
   "execution_count": 3,
   "metadata": {},
   "outputs": [
    {
     "data": {
      "text/plain": [
       "((60000, 28, 28, 1), 0.0, 1.0)"
      ]
     },
     "execution_count": 3,
     "metadata": {},
     "output_type": "execute_result"
    }
   ],
   "source": [
    "mnist = tf.keras.datasets.mnist\n",
    "(x_train, y_train),(x_test, y_test) = mnist.load_data()\n",
    "x = x_train / 255.0\n",
    "x = np.expand_dims(x, axis = -1)\n",
    "x.shape, np.min(x), np.max(x)"
   ]
  },
  {
   "cell_type": "code",
   "execution_count": 12,
   "metadata": {},
   "outputs": [],
   "source": [
    "def get_dataset(x):\n",
    "    '''Instanciate dataset\n",
    "    '''\n",
    "    dataset = tf.data.Dataset.from_tensor_slices((x, x))\n",
    "    dataset = dataset.repeat()\n",
    "    return dataset.batch(32)\n",
    "\n",
    "\n",
    "def encoding_layer(x, filters):\n",
    "    \"\"\"downsampling Layers used for the encoder \n",
    "    \"\"\"\n",
    "    x = KL.SeparableConv2D(filters, kernel_size=4, padding='same')(x)\n",
    "    X = tf.keras.activations.relu(x)\n",
    "    X = KL.BatchNormalization()(x)\n",
    "    x = KL.MaxPooling2D((2, 2))(x)\n",
    "\n",
    "    return x\n",
    "\n",
    "\n",
    "def decoding_layer(layer_input, skip_input, filters):\n",
    "    \"\"\"Upsampling Layers used for the decoder\n",
    "    \"\"\"\n",
    "    x = KL.UpSampling2D(size=2)(layer_input)\n",
    "    x = KL.SeparableConv2D(filters, kernel_size=4, strides=1, padding='same', activation='relu')(x)\n",
    "    x = KL.BatchNormalization(momentum=0.8)(x)\n",
    "    x = KL.Concatenate()([x, skip_input])\n",
    "    return x\n",
    "\n",
    "\n",
    "def get_callbacks():\n",
    "    '''Reduce the learning rate when the mae metric doesn't improve\n",
    "    '''\n",
    "    return [\n",
    "        tf.keras.callbacks.ReduceLROnPlateau(monitor='mean_absolute_error', factor=0.2,\n",
    "                              patience=5, min_lr=0.00001, verbose = 1)\n",
    "    ]\n",
    "\n",
    "\n",
    "def compile_model(model):\n",
    "    '''Compile model\n",
    "    '''\n",
    "    model.compile(optimizer='adam',\n",
    "                      loss='mean_squared_error',\n",
    "                      metrics=['mae'])\n",
    "\n",
    "\n",
    "def autoencoder():\n",
    "    '''Build the autoencoder\n",
    "    '''\n",
    "    x0 = tf.keras.Input(shape=(28,28, 1))\n",
    "\n",
    "    # #encoding\n",
    "    e1 = encoding_layer(x0, 32)\n",
    "    e2 = encoding_layer(e1, 1)\n",
    "\n",
    "    # #decoding\n",
    "    d1 = decoding_layer(e2, e1, 32)\n",
    "    d2 = KL.UpSampling2D(size=2)(d1)\n",
    "    output = KL.Conv2D(1, strides=1,kernel_size=4, padding='same', activation='relu')(d2)\n",
    "    \n",
    "    return tf.keras.Model(x0, output)"
   ]
  },
  {
   "cell_type": "code",
   "execution_count": 13,
   "metadata": {},
   "outputs": [],
   "source": [
    "model = autoencoder()\n",
    "compile_model(model)\n",
    "dataset = get_dataset(x)"
   ]
  },
  {
   "cell_type": "code",
   "execution_count": 14,
   "metadata": {},
   "outputs": [
    {
     "name": "stdout",
     "output_type": "stream",
     "text": [
      "__________________________________________________________________________________________________\n",
      "Layer (type)                    Output Shape         Param #     Connected to                     \n",
      "==================================================================================================\n",
      "input_5 (InputLayer)            (None, 28, 28, 1)    0                                            \n",
      "__________________________________________________________________________________________________\n",
      "separable_conv2d_9 (SeparableCo (None, 28, 28, 32)   80          input_5[0][0]                    \n",
      "__________________________________________________________________________________________________\n",
      "max_pooling2d_6 (MaxPooling2D)  (None, 14, 14, 32)   0           separable_conv2d_9[0][0]         \n",
      "__________________________________________________________________________________________________\n",
      "separable_conv2d_10 (SeparableC (None, 14, 14, 1)    545         max_pooling2d_6[0][0]            \n",
      "__________________________________________________________________________________________________\n",
      "max_pooling2d_7 (MaxPooling2D)  (None, 7, 7, 1)      0           separable_conv2d_10[0][0]        \n",
      "__________________________________________________________________________________________________\n",
      "up_sampling2d_6 (UpSampling2D)  (None, 14, 14, 1)    0           max_pooling2d_7[0][0]            \n",
      "__________________________________________________________________________________________________\n",
      "separable_conv2d_11 (SeparableC (None, 14, 14, 32)   80          up_sampling2d_6[0][0]            \n",
      "__________________________________________________________________________________________________\n",
      "batch_normalization_11 (BatchNo (None, 14, 14, 32)   128         separable_conv2d_11[0][0]        \n",
      "__________________________________________________________________________________________________\n",
      "concatenate_3 (Concatenate)     (None, 14, 14, 64)   0           batch_normalization_11[0][0]     \n",
      "                                                                 max_pooling2d_6[0][0]            \n",
      "__________________________________________________________________________________________________\n",
      "up_sampling2d_7 (UpSampling2D)  (None, 28, 28, 64)   0           concatenate_3[0][0]              \n",
      "__________________________________________________________________________________________________\n",
      "conv2d (Conv2D)                 (None, 28, 28, 1)    1025        up_sampling2d_7[0][0]            \n",
      "==================================================================================================\n",
      "Total params: 1,858\n",
      "Trainable params: 1,794\n",
      "Non-trainable params: 64\n",
      "__________________________________________________________________________________________________\n"
     ]
    }
   ],
   "source": [
    "model.summary()"
   ]
  },
  {
   "cell_type": "code",
   "execution_count": 20,
   "metadata": {},
   "outputs": [],
   "source": [
    "h = model.fit(dataset, epochs=30, steps_per_epoch=600, callbacks = get_callbacks())"
   ]
  },
  {
   "cell_type": "code",
   "execution_count": 21,
   "metadata": {},
   "outputs": [],
   "source": [
    "preds = []\n",
    "\n",
    "for i in range(10):\n",
    "    preds.append(np.squeeze(x[i]))\n",
    "    r = model.predict(np.expand_dims(x[i], axis = 0))\n",
    "    r = np.squeeze(r)\n",
    "    preds.append(r)"
   ]
  },
  {
   "cell_type": "code",
   "execution_count": 17,
   "metadata": {
    "scrolled": false
   },
   "outputs": [
    {
     "data": {
      "image/png": "[encoded data removed]",
      "text/plain": [
       "<Figure size 1440x288 with 20 Axes>"
      ]
     },
     "metadata": {},
     "output_type": "display_data"
    }
   ],
   "source": [
    "plt.figure(figsize=(20,4))\n",
    "for i in range(20):\n",
    "    plt.subplot(2,10,i+1)\n",
    "    plt.xticks([])\n",
    "    plt.yticks([])\n",
    "    plt.grid(False)\n",
    "    plt.imshow(preds[i], cmap=plt.cm.binary)\n",
    "    \n",
    "plt.show()"
   ]
  },
  {
   "cell_type": "markdown",
   "metadata": {},
   "source": [
    "#### Note:\n",
    "We can see that we apply a dimensional reduction of 4 on the mnist dataset. We could use separately the first half of the model to encode data and the other half to decode them. Use case: So far, the best use case I can think of is to learn non-linear feature representations from a dataset before to use them as an input of another network. "
   ]
  },
  {
   "cell_type": "markdown",
   "metadata": {},
   "source": [
    "<br><br>\n",
    "# Resources\n",
    "\n",
    "**Computerphile** - Encoder Decoder Network https://goo.gl/pdvo2G\n",
    "<br><br>\n",
    "**Siraj Raval** - Autoencoder Explained https://goo.gl/SVqUK5\n",
    "<br><br>\n",
    "**Rohan Saxena** - What is an Encoder/Decoder in Deep Learning? https://goo.gl/6NoZ2F\n",
    "<br><br>\n",
    "**Tensorflow** - Variational Autoencoders with Tensorflow Probability Layers https://goo.gl/88JPMK\n",
    "<br><br>\n",
    "**Thomas Ciha** - PCA & Autoencoders: Algorithms Everyone Can Understand https://goo.gl/UTXfbj\n",
    "<br><br>\n",
    "**Andrew Ng** - cs294a Sparse Autoencoder Lecture Part 1 https://goo.gl/VwvNVf\n",
    "<br><br>\n",
    "**Andrew Ng** - cs294a Sparse Autoencoder Lecture Part 2 https://goo.gl/tv4Ged\n",
    "<br><br>\n",
    "**Ali Ghodsi, Lec** - Deep Learning, Variational Autoencoder, Oct 12 2017 [Lect 6.2] https://goo.gl/ywFmuQ\n",
    "<br><br>\n",
    "**Arden Dertat** - Applied Deep Learning - Part 3: Autoencoders https://goo.gl/dfdyyp\n",
    "<br><br>\n",
    "**Kevin Frans** - Variational Autoencoders Explained https://goo.gl/q8c7QT\n",
    "<br><br>\n",
    "\n",
    "### Papers\n",
    "<br><br>\n",
    "**Auto-Encoding Variational Bayes** https://arxiv.org/abs/1312.6114"
   ]
  },
  {
   "cell_type": "code",
   "execution_count": null,
   "metadata": {},
   "outputs": [],
   "source": []
  }
 ],
 "metadata": {
  "kernelspec": {
   "display_name": "Python 3",
   "language": "python",
   "name": "python3"
  },
  "language_info": {
   "codemirror_mode": {
    "name": "ipython",
    "version": 3
   },
   "file_extension": ".py",
   "mimetype": "text/x-python",
   "name": "python",
   "nbconvert_exporter": "python",
   "pygments_lexer": "ipython3",
   "version": "3.6.7"
  }
 },
 "nbformat": 4,
 "nbformat_minor": 2
}
