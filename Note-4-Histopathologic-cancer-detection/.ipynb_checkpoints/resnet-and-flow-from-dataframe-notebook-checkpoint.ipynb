{
 "cells": [
  {
   "cell_type": "markdown",
   "metadata": {
    "_uuid": "60e427537d2fdc1e500088a1a8b7ad09eaf3311c"
   },
   "source": [
    "# **Note**\n",
    "#### Any suggestion or correction would be gladly accepted.<br>\n",
    "\n",
    "This notebook was submitted for a Kaggle competition on metastatic cancer identification in small image patches taken from larger digital pathology scans. https://www.kaggle.com/c/histopathologic-cancer-detection\n",
    "\n",
    "The classifier network was first trained with a training and a validation subset. Then, in an attempt to maximize the score of the classification on the test set provided by Kaggle, I tried to train again on all available data with a very small learning rate (which raised the score by 0.6)."
   ]
  },
  {
   "cell_type": "code",
   "execution_count": null,
   "metadata": {
    "_cell_guid": "b1076dfc-b9ad-4769-8c92-a6c4dae69d19",
    "_uuid": "8f2839f25d086af736a60e9eeb907d3b93b6e0e5"
   },
   "outputs": [],
   "source": [
    "import os\n",
    "import numpy as np \n",
    "import pandas as pd\n",
    "import matplotlib.pyplot as plt\n",
    "%matplotlib inline\n",
    "\n",
    "from keras.preprocessing import image\n",
    "from keras_preprocessing.image import ImageDataGenerator\n",
    "from keras.models import Model, load_model\n",
    "from keras.optimizers import Adam\n",
    "from keras.applications.resnet50 import ResNet50\n",
    "from keras import layers as KL\n",
    "from keras.callbacks import ReduceLROnPlateau, ModelCheckpoint"
   ]
  },
  {
   "cell_type": "code",
   "execution_count": null,
   "metadata": {
    "_cell_guid": "79c7e3d0-c299-4dcb-8224-4455121ee9b0",
    "_uuid": "d629ff2d2480ee46fbb7e2d37f6b5fab8052498a"
   },
   "outputs": [],
   "source": [
    "TRAIN_PATH = '/kaggle/input/histopathologic-cancer-detection/train/'\n",
    "TRAIN_LABELS = '/kaggle/input/histopathologic-cancer-detection/train_labels.csv'\n",
    "SIZE_IMG = 96\n",
    "EPOCHS = 10\n",
    "\n",
    "model_path = '../input/resnet-cancer-detection/cancer_detection_resnet.h5'\n",
    "saved_model = os.path.isfile(model_path)"
   ]
  },
  {
   "cell_type": "markdown",
   "metadata": {
    "_uuid": "476f11b88e57a0f13ea2f078a70c4a0839daa823"
   },
   "source": [
    "# **Data processing**"
   ]
  },
  {
   "cell_type": "code",
   "execution_count": null,
   "metadata": {
    "_uuid": "46162f40409aa15d8a6d7f5e5fb84fdc35762150"
   },
   "outputs": [],
   "source": [
    "df = pd.read_csv(TRAIN_LABELS)\n",
    "\n",
    "#remove unwanted data detected by other kaggle users\n",
    "df = df[df['id'] != 'dd6dfed324f9fcb6f93f46f32fc800f2ec196be2']\n",
    "df = df[df['id'] != '9369c7278ec8bcc6c880d99194de09fc2bd4efbe']\n",
    "\n",
    "print(df['label'].value_counts(), \n",
    "      '\\n\\n', df.describe(), \n",
    "      '\\n\\n', df.head())"
   ]
  },
  {
   "cell_type": "code",
   "execution_count": null,
   "metadata": {
    "_uuid": "a427a43773819d6901b053c487469ef680d12762"
   },
   "outputs": [],
   "source": [
    "def display_random_data(dataframe, path, rows):\n",
    "\n",
    "    imgs = dataframe.sample(rows *2)\n",
    "    fig, axarr = plt.subplots(2, rows, figsize=(rows*10, rows*4))\n",
    "\n",
    "    for i in range(1,rows*2+1):\n",
    "        img_path = path + imgs.iloc[i-1]['id'] + '.tif'\n",
    "        img = image.load_img(img_path, target_size=(96, 96))\n",
    "        img = image.img_to_array(img)/255\n",
    "        axarr[i//(rows+1),i%rows].imshow(img)\n",
    "        axarr[i//(rows+1),i%rows].set_title(imgs.iloc[i-1]['label'], fontsize=35)\n",
    "        axarr[i//(rows+1),i%rows].axis('off')\n",
    "        \n",
    "display_random_data(df,TRAIN_PATH, 5)"
   ]
  },
  {
   "cell_type": "markdown",
   "metadata": {
    "_uuid": "1015414495b3932afb6524f3f93f4acd6da7d516"
   },
   "source": [
    "# **Init Keras data generator**"
   ]
  },
  {
   "cell_type": "code",
   "execution_count": null,
   "metadata": {
    "_uuid": "63d6e94e60cebb877a0f392ec127c309ed28b0b8"
   },
   "outputs": [],
   "source": [
    "#add .tif to ids in the dataframe to use flow_from_dataframe\n",
    "df[\"id\"]=df[\"id\"].apply(lambda x : x +\".tif\")\n",
    "df.head()"
   ]
  },
  {
   "cell_type": "code",
   "execution_count": null,
   "metadata": {
    "_uuid": "9e7d918f45497ad5516cfe35f276614d1d84425f"
   },
   "outputs": [],
   "source": [
    "if saved_model:\n",
    "    val = 0\n",
    "else:\n",
    "    val = 0.15\n",
    "    \n",
    "datagen= ImageDataGenerator(\n",
    "            rescale=1./255,\n",
    "            samplewise_std_normalization= True,\n",
    "            horizontal_flip=True,\n",
    "            vertical_flip=True,\n",
    "            rotation_range=90,\n",
    "            zoom_range=0.2, \n",
    "            width_shift_range=0.1,\n",
    "            height_shift_range=0.1,\n",
    "            shear_range=0.05,\n",
    "            channel_shift_range=0.1,\n",
    "            validation_split=val)\n",
    "\n",
    "train_generator=datagen.flow_from_dataframe(\n",
    "    dataframe=df,\n",
    "    directory=TRAIN_PATH,\n",
    "    x_col=\"id\",\n",
    "    y_col=\"label\",\n",
    "    subset=\"training\",\n",
    "    batch_size=64,\n",
    "    shuffle=True,\n",
    "    class_mode=\"binary\",\n",
    "    target_size=(96,96))\n",
    "\n",
    "valid_generator=datagen.flow_from_dataframe(\n",
    "    dataframe=df,\n",
    "    directory=TRAIN_PATH,\n",
    "    x_col=\"id\",\n",
    "    y_col=\"label\",\n",
    "    subset=\"validation\",\n",
    "    batch_size=64,\n",
    "    shuffle=True,\n",
    "    class_mode=\"binary\",\n",
    "    target_size=(96,96))"
   ]
  },
  {
   "cell_type": "markdown",
   "metadata": {
    "_uuid": "56ff4b7f7be00f145721114cd4052ab12c1b68b3"
   },
   "source": [
    "# **Build model**\n",
    "The model is a pre-trained Resnet50 with a dense layer combined to a sigmoid activation function for the binary classification. A keras callback was used to reduce the learning rate if the validation accuracy doesn't improve over epochs."
   ]
  },
  {
   "cell_type": "code",
   "execution_count": null,
   "metadata": {
    "_uuid": "ca31c48aa3ad33c6b8f5f774724dd514136e54ba"
   },
   "outputs": [],
   "source": [
    "def build_model():\n",
    "    input_shape = (SIZE_IMG, SIZE_IMG, 3)\n",
    "    inputs = KL.Input(input_shape)\n",
    "    resnet = ResNet50(include_top=False, input_shape=input_shape) \n",
    "    x  = KL.GlobalAveragePooling2D()(resnet(inputs))\n",
    "    x = KL.Dropout(0.5)(x)\n",
    "    outputs = KL.Dense(1, activation='sigmoid')(x)\n",
    "\n",
    "    return Model(inputs, outputs)"
   ]
  },
  {
   "cell_type": "code",
   "execution_count": 1,
   "metadata": {
    "_uuid": "918ca5f8b774881cc11689768c578e884e2f8eba"
   },
   "outputs": [],
   "source": [
    "def first_training():\n",
    "    '''\n",
    "    train the model and save it if the val_acc test is better than the precedent epoch\n",
    "    '''\n",
    "    model = build_model()\n",
    "    \n",
    "    model.compile(optimizer=Adam(lr=0.0001, decay=0.00001),\n",
    "                  loss='binary_crossentropy',\n",
    "                  metrics=['accuracy'])\n",
    "\n",
    "    reduce_lr = ReduceLROnPlateau(monitor='val_acc', factor=0.5, patience=2, \n",
    "                                       verbose=1, mode='max', min_lr=0.000001)\n",
    "    \n",
    "    checkpoint = ModelCheckpoint(\"resnet_cancer_detection.h5\", monitor='val_acc', verbose=1, \n",
    "                              save_best_only=True, mode='max')\n",
    "\n",
    "    history = model.fit_generator(train_generator,\n",
    "                              steps_per_epoch=train_generator.n//train_generator.batch_size, \n",
    "                              validation_data=valid_generator,\n",
    "                              validation_steps=valid_generator.n//valid_generator.batch_size,\n",
    "                              epochs=EPOCHS,\n",
    "                              callbacks=[checkpoint,reduce_lr])\n",
    "    \n",
    "    return history, model"
   ]
  },
  {
   "cell_type": "code",
   "execution_count": null,
   "metadata": {
    "_uuid": "684c20a56c666d44d6e784f19345d19c5408ea0a"
   },
   "outputs": [],
   "source": [
    "def second_training():\n",
    "    '''\n",
    "    Tune the model using all available data and a small learning rate\n",
    "    '''\n",
    "    model = load_model(model_path)\n",
    "    \n",
    "    model.compile(optimizer=Adam(lr=0.000001, decay=0.00001),\n",
    "                  loss='binary_crossentropy',\n",
    "                  metrics=['accuracy'])\n",
    "    \n",
    "    history = model.fit_generator(train_generator,\n",
    "                              steps_per_epoch=train_generator.n//train_generator.batch_size, \n",
    "                              epochs=10)\n",
    "    \n",
    "    return history, model"
   ]
  },
  {
   "cell_type": "code",
   "execution_count": null,
   "metadata": {
    "_uuid": "9446aa5eebd6b57e067526f47e864b6545a0c5fc"
   },
   "outputs": [],
   "source": [
    "if saved_model:\n",
    "    history, model = second_training()\n",
    "else:\n",
    "    history, model = first_training()"
   ]
  },
  {
   "cell_type": "code",
   "execution_count": null,
   "metadata": {
    "_uuid": "f042f2acc3b72bef0720f22942a834f9570e4e4b"
   },
   "outputs": [],
   "source": [
    "def analyse_results(epochs):\n",
    "    metrics = ['loss', \"acc\", 'val_loss','val_acc']\n",
    "        \n",
    "    plt.style.use(\"ggplot\")\n",
    "    (fig, ax) = plt.subplots(1, 4, figsize=(30, 5))\n",
    "    fig.subplots_adjust(hspace=0.1, wspace=0.3)\n",
    "\n",
    "    for (i, l) in enumerate(metrics):\n",
    "        title = \"Loss for {}\".format(l) if l != \"loss\" else \"Total loss\"\n",
    "        ax[i].set_title(title)\n",
    "        ax[i].set_xlabel(\"Epoch #\")\n",
    "        ax[i].set_ylabel(l.split('_')[-1])\n",
    "        ax[i].plot(np.arange(0, epochs), history.history[l], label=l)\n",
    "        ax[i].legend() \n",
    "\n",
    "if EPOCHS > 1 and saved_model == False:        \n",
    "    analyse_results(EPOCHS)"
   ]
  },
  {
   "cell_type": "markdown",
   "metadata": {
    "_uuid": "612d836545f5f52b45576739fd202325464372b8"
   },
   "source": [
    "# **Predictions**"
   ]
  },
  {
   "cell_type": "code",
   "execution_count": null,
   "metadata": {
    "_uuid": "9f02d4c77345f111842f95d05ae39b19b3e7ffb5"
   },
   "outputs": [],
   "source": [
    "test_path = '/kaggle/input/histopathologic-cancer-detection/test/'\n",
    "df_test = pd.read_csv('../input/histopathologic-cancer-detection/sample_submission.csv')\n",
    "df_test[\"id\"]=df_test[\"id\"].apply(lambda x : x +\".tif\")"
   ]
  },
  {
   "cell_type": "markdown",
   "metadata": {
    "_uuid": "2d08b3a6c170339a91e0b93a773ffee82ee2856f"
   },
   "source": [
    "Test generator doesn't need to be shuffled and no class_mode are passed as an argument."
   ]
  },
  {
   "cell_type": "code",
   "execution_count": null,
   "metadata": {
    "_uuid": "10f8a839e3ac98e3c2dfbb811f0e6e46cca87625"
   },
   "outputs": [],
   "source": [
    "test_datagen = ImageDataGenerator(rescale=1./255,\n",
    "                                 samplewise_std_normalization= True)\n",
    "\n",
    "test_generator = test_datagen.flow_from_dataframe(\n",
    "    dataframe=df_test,\n",
    "    directory=test_path,\n",
    "    x_col=\"id\",\n",
    "    y_col=None,\n",
    "    target_size=(96, 96),\n",
    "    color_mode=\"rgb\",\n",
    "    batch_size=64,\n",
    "    class_mode=None,\n",
    "    shuffle=False,\n",
    ")  "
   ]
  },
  {
   "cell_type": "code",
   "execution_count": null,
   "metadata": {
    "_uuid": "1599d89fbf0b77c2bc94511dc195f6f47c8fcb7e"
   },
   "outputs": [],
   "source": [
    "test_generator.reset()\n",
    "pred=model.predict_generator(test_generator,verbose=1).ravel()"
   ]
  },
  {
   "cell_type": "markdown",
   "metadata": {
    "_uuid": "90770b2d3d884566e3707fbd29db1631c39a3b74"
   },
   "source": [
    "# **CSV submission**\n",
    "Predictions of the test generator are not in the right order so it needs to be rearranged it in the label list before to be passed it to the submission data frame. The final result contains raw predictions without any threshold to classify data because the website is using the ROC curve metric to compute the score."
   ]
  },
  {
   "cell_type": "code",
   "execution_count": null,
   "metadata": {
    "_uuid": "28cd7b4ebe731e8bd5bb834a656a51cd0d2edb69"
   },
   "outputs": [],
   "source": [
    "results = dict(zip(test_generator.filenames, pred))\n",
    "\n",
    "label = []\n",
    "for i in range(len(df_test[\"id\"])):\n",
    "    label.append(results[df_test[\"id\"][i]])\n",
    "    \n",
    "df_test[\"id\"]=df_test[\"id\"].apply(lambda x : x[:-4])"
   ]
  },
  {
   "cell_type": "code",
   "execution_count": null,
   "metadata": {
    "_uuid": "b6125561bd2cd6b7fe23bd362c276ab35529bb97"
   },
   "outputs": [],
   "source": [
    "submission=pd.DataFrame({\"id\":df_test[\"id\"],\n",
    "                      \"label\":label})\n",
    "submission.to_csv(\"submission.csv\",index=False)\n",
    "submission.head()"
   ]
  }
 ],
 "metadata": {
  "kernelspec": {
   "display_name": "Python 3",
   "language": "python",
   "name": "python3"
  },
  "language_info": {
   "codemirror_mode": {
    "name": "ipython",
    "version": 3
   },
   "file_extension": ".py",
   "mimetype": "text/x-python",
   "name": "python",
   "nbconvert_exporter": "python",
   "pygments_lexer": "ipython3",
   "version": "3.6.5"
  }
 },
 "nbformat": 4,
 "nbformat_minor": 1
}
